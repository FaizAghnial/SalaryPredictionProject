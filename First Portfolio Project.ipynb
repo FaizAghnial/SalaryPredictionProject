{
  "nbformat": 4,
  "nbformat_minor": 0,
  "metadata": {
    "kernelspec": {
      "display_name": "Python 3 (ipykernel)",
      "language": "python",
      "name": "python3"
    },
    "language_info": {
      "codemirror_mode": {
        "name": "ipython",
        "version": 3
      },
      "file_extension": ".py",
      "mimetype": "text/x-python",
      "name": "python",
      "nbconvert_exporter": "python",
      "pygments_lexer": "ipython3",
      "version": "3.9.9"
    },
    "colab": {
      "name": "First Portfolio Project.ipynb",
      "provenance": []
    }
  },
  "cells": [
    {
      "cell_type": "markdown",
      "metadata": {
        "id": "ofLEwMy3oiS1"
      },
      "source": [
        "# Salary Predictions Based on Job Descriptions"
      ]
    },
    {
      "cell_type": "markdown",
      "metadata": {
        "id": "ukCcjcvboiS_"
      },
      "source": [
        "# Part 1 - DEFINE"
      ]
    },
    {
      "cell_type": "markdown",
      "metadata": {
        "id": "ICXxpEWnoiTC"
      },
      "source": [
        "### ---- 1 Define the problem ----"
      ]
    },
    {
      "cell_type": "markdown",
      "metadata": {
        "id": "20NkngLJoiTD"
      },
      "source": [
        "Write the problem in your own words here"
      ]
    },
    {
      "cell_type": "code",
      "metadata": {
        "id": "wjy9BeSfoiTF",
        "outputId": "b0b02a1d-4ec2-4a8a-db6b-3fb388e68b29"
      },
      "source": [
        "#your info here\n",
        "__author__ = \"Faiz Aghnial Husna \"\n",
        "__email__ = \"faiz.aghnialh@gmail.com\"\n",
        "\n",
        "#import libraries\n",
        "import pandas as pd\n",
        "import numpy as np\n",
        "import sklearn as sk\n",
        "\n",
        "\n"
      ],
      "execution_count": null,
      "outputs": [
        {
          "ename": "ModuleNotFoundError",
          "evalue": "No module named 'pandas'",
          "output_type": "error",
          "traceback": [
            "\u001b[1;31m---------------------------------------------------------------------------\u001b[0m",
            "\u001b[1;31mModuleNotFoundError\u001b[0m                       Traceback (most recent call last)",
            "\u001b[1;32m~\\AppData\\Local\\Temp/ipykernel_456/3753163903.py\u001b[0m in \u001b[0;36m<module>\u001b[1;34m\u001b[0m\n\u001b[0;32m      4\u001b[0m \u001b[1;33m\u001b[0m\u001b[0m\n\u001b[0;32m      5\u001b[0m \u001b[1;31m#import libraries\u001b[0m\u001b[1;33m\u001b[0m\u001b[1;33m\u001b[0m\u001b[0m\n\u001b[1;32m----> 6\u001b[1;33m \u001b[1;32mimport\u001b[0m \u001b[0mpandas\u001b[0m \u001b[1;32mas\u001b[0m \u001b[0mpd\u001b[0m\u001b[1;33m\u001b[0m\u001b[1;33m\u001b[0m\u001b[0m\n\u001b[0m\u001b[0;32m      7\u001b[0m \u001b[1;32mimport\u001b[0m \u001b[0mnumpy\u001b[0m \u001b[1;32mas\u001b[0m \u001b[0mnp\u001b[0m\u001b[1;33m\u001b[0m\u001b[1;33m\u001b[0m\u001b[0m\n\u001b[0;32m      8\u001b[0m \u001b[1;32mimport\u001b[0m \u001b[0msklearn\u001b[0m \u001b[1;32mas\u001b[0m \u001b[0msk\u001b[0m\u001b[1;33m\u001b[0m\u001b[1;33m\u001b[0m\u001b[0m\n",
            "\u001b[1;31mModuleNotFoundError\u001b[0m: No module named 'pandas'"
          ]
        }
      ]
    },
    {
      "cell_type": "markdown",
      "metadata": {
        "id": "TUSoh9H5oiTK"
      },
      "source": [
        "## Part 2 - DISCOVER"
      ]
    },
    {
      "cell_type": "markdown",
      "metadata": {
        "id": "qA8rw5QboiTL"
      },
      "source": [
        "### ---- 2 Load the data ----"
      ]
    },
    {
      "cell_type": "code",
      "metadata": {
        "id": "EI0nUdNkoiTN"
      },
      "source": [
        "#load the data into a Pandas dataframe"
      ],
      "execution_count": null,
      "outputs": []
    },
    {
      "cell_type": "markdown",
      "metadata": {
        "id": "i-0cTTsCoiTO"
      },
      "source": [
        "### ---- 3 Clean the data ----"
      ]
    },
    {
      "cell_type": "code",
      "metadata": {
        "id": "NhJsE4Y9oiTQ"
      },
      "source": [
        "#look for duplicate data, invalid data (e.g. salaries <=0), or corrupt data and remove it"
      ],
      "execution_count": null,
      "outputs": []
    },
    {
      "cell_type": "markdown",
      "metadata": {
        "id": "5846prqBoiTS"
      },
      "source": [
        "### ---- 4 Explore the data (EDA) ----"
      ]
    },
    {
      "cell_type": "code",
      "metadata": {
        "id": "-i8uSP_IoiTT"
      },
      "source": [
        "#summarize each feature variable\n",
        "#summarize the target variable\n",
        "#look for correlation between each feature and the target\n",
        "#look for correlation between features"
      ],
      "execution_count": null,
      "outputs": []
    },
    {
      "cell_type": "markdown",
      "metadata": {
        "id": "wEu9jkryoiTU"
      },
      "source": [
        "### ---- 5 Establish a baseline ----"
      ]
    },
    {
      "cell_type": "code",
      "metadata": {
        "id": "Bw0yDbnNoiTV"
      },
      "source": [
        "#select a reasonable metric (MSE in this case)\n",
        "#create an extremely simple model and measure its efficacy\n",
        "#e.g. use \"average salary\" for each industry as your model and then measure MSE\n",
        "#during 5-fold cross-validation"
      ],
      "execution_count": null,
      "outputs": []
    },
    {
      "cell_type": "markdown",
      "metadata": {
        "id": "srob2YsDoiTW"
      },
      "source": [
        "### ---- 6 Hypothesize solution ----"
      ]
    },
    {
      "cell_type": "code",
      "metadata": {
        "id": "yLhlSPZMoiTX"
      },
      "source": [
        "#brainstorm 3 models that you think may improve results over the baseline model based\n",
        "#on your "
      ],
      "execution_count": null,
      "outputs": []
    },
    {
      "cell_type": "markdown",
      "metadata": {
        "id": "Tm776QyOoiTY"
      },
      "source": [
        "Brainstorm 3 models that you think may improve results over the baseline model based on your EDA and explain why they're reasonable solutions here.\n",
        "\n",
        "Also write down any new features that you think you should try adding to the model based on your EDA, e.g. interaction variables, summary statistics for each group, etc"
      ]
    },
    {
      "cell_type": "markdown",
      "metadata": {
        "id": "jJH2gcFLoiTY"
      },
      "source": [
        "## Part 3 - DEVELOP"
      ]
    },
    {
      "cell_type": "markdown",
      "metadata": {
        "id": "OhzBaj_koiTZ"
      },
      "source": [
        "You will cycle through creating features, tuning models, and training/validing models (steps 7-9) until you've reached your efficacy goal\n",
        "\n",
        "#### Your metric will be MSE and your goal is:\n",
        " - <360 for entry-level data science roles\n",
        " - <320 for senior data science roles"
      ]
    },
    {
      "cell_type": "markdown",
      "metadata": {
        "id": "SEuKcF7xoiTa"
      },
      "source": [
        "### ---- 7 Engineer features  ----"
      ]
    },
    {
      "cell_type": "code",
      "metadata": {
        "id": "1uyr64ffoiTb"
      },
      "source": [
        "#make sure that data is ready for modeling\n",
        "#create any new features needed to potentially enhance model"
      ],
      "execution_count": null,
      "outputs": []
    },
    {
      "cell_type": "markdown",
      "metadata": {
        "id": "cGdQ0PZToiTc"
      },
      "source": [
        "### ---- 8 Create models ----"
      ]
    },
    {
      "cell_type": "code",
      "metadata": {
        "id": "doSaUBOToiTc"
      },
      "source": [
        "#create and tune the models that you brainstormed during part 2"
      ],
      "execution_count": null,
      "outputs": []
    },
    {
      "cell_type": "markdown",
      "metadata": {
        "id": "xnozwajFoiTd"
      },
      "source": [
        "### ---- 9 Test models ----"
      ]
    },
    {
      "cell_type": "code",
      "metadata": {
        "id": "rgy9vggLoiTe"
      },
      "source": [
        "#do 5-fold cross validation on models and measure MSE"
      ],
      "execution_count": null,
      "outputs": []
    },
    {
      "cell_type": "markdown",
      "metadata": {
        "id": "0ffNzL8SoiTe"
      },
      "source": [
        "### ---- 10 Select best model  ----"
      ]
    },
    {
      "cell_type": "code",
      "metadata": {
        "id": "wdRO3mCdoiTf"
      },
      "source": [
        "#select the model with the lowest error as your \"prodcuction\" model"
      ],
      "execution_count": null,
      "outputs": []
    },
    {
      "cell_type": "markdown",
      "metadata": {
        "id": "r0rqirnkoiTg"
      },
      "source": [
        "## Part 4 - DEPLOY"
      ]
    },
    {
      "cell_type": "markdown",
      "metadata": {
        "id": "suULmhlwoiTh"
      },
      "source": [
        "### ---- 11 Automate pipeline ----"
      ]
    },
    {
      "cell_type": "code",
      "metadata": {
        "id": "tGLls5BkoiTi"
      },
      "source": [
        "#write script that trains model on entire training set, saves model to disk,\n",
        "#and scores the \"test\" dataset"
      ],
      "execution_count": null,
      "outputs": []
    },
    {
      "cell_type": "markdown",
      "metadata": {
        "id": "vgqdDTDWoiTi"
      },
      "source": [
        "### ---- 12 Deploy solution ----"
      ]
    },
    {
      "cell_type": "code",
      "metadata": {
        "id": "UFDEpLO6oiTk"
      },
      "source": [
        "#save your prediction to a csv file or optionally save them as a table in a SQL database\n",
        "#additionally, you want to save a visualization and summary of your prediction and feature importances\n",
        "#these visualizations and summaries will be extremely useful to business stakeholders"
      ],
      "execution_count": null,
      "outputs": []
    },
    {
      "cell_type": "markdown",
      "metadata": {
        "id": "mASH7ivioiTl"
      },
      "source": [
        "### ---- 13 Measure efficacy ----"
      ]
    },
    {
      "cell_type": "markdown",
      "metadata": {
        "id": "GHyLIWrfoiTm"
      },
      "source": [
        "We'll skip this step since we don't have the outcomes for the test data"
      ]
    },
    {
      "cell_type": "code",
      "metadata": {
        "id": "SuEzYhK4oiTn"
      },
      "source": [
        ""
      ],
      "execution_count": null,
      "outputs": []
    },
    {
      "cell_type": "code",
      "metadata": {
        "id": "uBzzl2HJoiTn"
      },
      "source": [
        ""
      ],
      "execution_count": null,
      "outputs": []
    },
    {
      "cell_type": "code",
      "metadata": {
        "id": "WfV_tLMzoiTo"
      },
      "source": [
        ""
      ],
      "execution_count": null,
      "outputs": []
    },
    {
      "cell_type": "code",
      "metadata": {
        "id": "Pgh5EkZ4oiTo"
      },
      "source": [
        ""
      ],
      "execution_count": null,
      "outputs": []
    }
  ]
}